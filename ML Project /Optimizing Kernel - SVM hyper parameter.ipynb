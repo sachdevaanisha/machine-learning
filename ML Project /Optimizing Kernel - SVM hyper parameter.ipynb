{
 "cells": [
  {
   "cell_type": "code",
   "execution_count": 1,
   "metadata": {},
   "outputs": [],
   "source": [
    "# standard packages used to handle files\n",
    "import sys\n",
    "import os \n",
    "import glob\n",
    "import time\n",
    "\n",
    "# commonly used library for data manipulation\n",
    "import pandas as pd\n",
    "\n",
    "# numerical\n",
    "import numpy as np\n",
    "\n",
    "# handle images - opencv\n",
    "import cv2\n",
    "\n",
    "# machine learning library\n",
    "import sklearn\n",
    "import sklearn.preprocessing\n",
    "\n",
    "# used to serialize python objects to disk and load them back to memory\n",
    "import pickle\n",
    "\n",
    "# plotting\n",
    "import matplotlib.pyplot as plt\n",
    "\n",
    "# helper functions\n",
    "import helpers\n",
    "\n",
    "# specific helper functions for feature extraction\n",
    "import features\n",
    "\n",
    "from sklearn.model_selection import train_test_split\n",
    "\n",
    "from sklearn.svm import SVC\n",
    "from sklearn.neighbors import KNeighborsClassifier\n",
    "from sklearn.tree import DecisionTreeClassifier\n",
    "from sklearn.ensemble import RandomForestClassifier\n",
    "from sklearn.naive_bayes import GaussianNB\n",
    "\n",
    "\n",
    "from sklearn.metrics import log_loss\n",
    "\n",
    "from sklearn.metrics import confusion_matrix\n",
    "import pylab as pl\n",
    "\n",
    "# tell matplotlib that we plot in a notebook\n",
    "%matplotlib notebook\n",
    "\n",
    "%matplotlib inline"
   ]
  },
  {
   "cell_type": "code",
   "execution_count": 2,
   "metadata": {},
   "outputs": [],
   "source": [
    "# filepath constants, set these according to your workflow:\n",
    "\n",
    "# where are your datasets:\n",
    "dataset_path = './images/'\n",
    "# where do you want to save your features and other outputs:\n",
    "output_path = './output/'"
   ]
  },
  {
   "cell_type": "code",
   "execution_count": 3,
   "metadata": {},
   "outputs": [],
   "source": [
    "# you don't have to change the paths here:\n",
    "\n",
    "dataset_path_train = os.path.join(dataset_path, 'train')\n",
    "dataset_path_test = os.path.join(dataset_path, 'test')\n",
    "\n",
    "features_path = os.path.join(output_path, 'features')\n",
    "features_path_train = os.path.join(features_path, 'train')\n",
    "features_path_test = os.path.join(features_path, 'test')\n",
    "\n",
    "prediction_path = os.path.join(output_path, 'predictions')\n",
    "\n",
    "# filepatterns to write out features\n",
    "filepattern_descriptor_train = os.path.join(features_path_train, 'train_features_{}.pkl')\n",
    "filepattern_descriptor_test = os.path.join(features_path_test, 'test_features_{}.pkl')\n",
    "\n",
    "# create paths in case they don't exist:\n",
    "helpers.createPath(features_path)\n",
    "helpers.createPath(features_path_train)\n",
    "helpers.createPath(features_path_test)\n",
    "helpers.createPath(prediction_path)"
   ]
  },
  {
   "cell_type": "code",
   "execution_count": 4,
   "metadata": {},
   "outputs": [
    {
     "name": "stdout",
     "output_type": "stream",
     "text": [
      "Amount of classes:  12\n",
      "\n",
      "Labels: \n",
      " ['chicken' 'elephant' 'fox' 'german_shepherd' 'golden_retriever' 'horse'\n",
      " 'jaguar' 'lion' 'owl' 'parrot' 'swan' 'tiger']\n"
     ]
    }
   ],
   "source": [
    "folder_paths = glob.glob(os.path.join(dataset_path_train,'*'))\n",
    "label_strings = np.sort(np.array([os.path.basename(path) for path in folder_paths]))\n",
    "num_classes = label_strings.shape[0]\n",
    "\n",
    "print(\"Amount of classes: \", num_classes)\n",
    "print(\"\\nLabels: \\n\", label_strings)"
   ]
  },
  {
   "cell_type": "code",
   "execution_count": 5,
   "metadata": {},
   "outputs": [],
   "source": [
    "train_paths = dict((label_string, helpers.getImgPaths(os.path.join(dataset_path_train, label_string))) \n",
    "                   for label_string in label_strings)\n",
    "\n",
    "test_paths = helpers.getImgPaths(dataset_path_test)"
   ]
  },
  {
   "cell_type": "code",
   "execution_count": 6,
   "metadata": {},
   "outputs": [],
   "source": [
    "def evaluate_models(X_train, X_valid, ytrain, yvalid, descriptor_desired):\n",
    "    \n",
    "    \n",
    "    print('\\n')\n",
    "    \n",
    "    #### SVM with rbf (defualt)####\n",
    "    \n",
    "    print(f\" SVM \".center(40,'*'))\n",
    "\n",
    "    # define support vector classifier\n",
    "    model = SVC(probability=True, random_state=42)\n",
    "\n",
    "    # fit model\n",
    "    model.fit(X_train, ytrain)\n",
    "    \n",
    "    display_metrics(X_train, X_valid, ytrain, yvalid, descriptor_desired, model,\"SVM with kernel rbf (default)\")\n",
    "    \n",
    "    #### SVM with linear####\n",
    "    \n",
    "    print(f\" SVM \".center(40,'*'))\n",
    "\n",
    "    # define support vector classifier\n",
    "    model = SVC(kernel='linear',probability=True, random_state=42)\n",
    "\n",
    "    # fit model\n",
    "    model.fit(X_train, ytrain)\n",
    "    \n",
    "    display_metrics(X_train, X_valid, ytrain, yvalid, descriptor_desired, model,\"SVM with kernel linear\")\n",
    "    \n",
    "    \n",
    "    #### SVM with poly ####\n",
    "    \n",
    "    print(f\" SVM \".center(40,'*'))\n",
    "\n",
    "    # define support vector classifier\n",
    "    model = SVC(kernel='poly',probability=True, random_state=42)\n",
    "\n",
    "    # fit model\n",
    "    model.fit(X_train, ytrain)\n",
    "    \n",
    "    display_metrics(X_train, X_valid, ytrain, yvalid, descriptor_desired, model,\"SVM with kernel poly\")\n",
    "    \n",
    "    #### SVM with sigmoid ####\n",
    "    \n",
    "    print(f\" SVM \".center(40,'*'))\n",
    "\n",
    "    # define support vector classifier\n",
    "    model = SVC(kernel='sigmoid',probability=True, random_state=42)\n",
    "\n",
    "    # fit model\n",
    "    model.fit(X_train, ytrain)\n",
    "    \n",
    "    display_metrics(X_train, X_valid, ytrain, yvalid, descriptor_desired, model,\"SVM with kernel sigmoid\")\n",
    "    \n",
    "    \n",
    "    #### SVM with precomputed ####\n",
    "    \n",
    "    print(f\" SVM \".center(40,'*'))\n",
    "\n",
    "    # define support vector classifier\n",
    "    model = SVC(kernel='precomputed',probability=True, random_state=42)\n",
    "\n",
    "    # fit model\n",
    "    model.fit(X_train, ytrain)\n",
    "    \n",
    "    display_metrics(X_train, X_valid, ytrain, yvalid, descriptor_desired, model,\"SVM with kernel precomputed\")\n",
    "    \n",
    "    \n",
    "    \n",
    "    \n",
    "    \n",
    "    \n",
    "    \n",
    "    "
   ]
  },
  {
   "cell_type": "code",
   "execution_count": 7,
   "metadata": {},
   "outputs": [],
   "source": [
    "def display_metrics(X_train, X_valid, ytrain, yvalid, descriptor_desired, model, model_name):\n",
    "    print(f'\\nclassification accuracy for {model_name} ({descriptor_desired}): ' +repr(model.score(X_valid,yvalid)))\n",
    "    print(f'training accuracy for {model_name} ({descriptor_desired}): ' +repr(model.score(X_train,ytrain))+\"\\n\")\n",
    "\n",
    "\n",
    "    #get confusion matrix\n",
    "    predictions_abs = model.predict(X_valid)\n",
    "    cm = confusion_matrix(yvalid, predictions_abs)\n",
    "\n",
    "    #display matrix\n",
    "    print(cm)\n",
    "\n",
    "\n",
    "    # plot confusion matrix\n",
    "    pl.matshow(cm)\n",
    "    pl.title(f'Confusion matrix for {model_name} ({descriptor_desired})')\n",
    "    pl.colorbar()\n",
    "    pl.ylabel('True class label')\n",
    "    pl.xlabel('Predicted class label')\n",
    "    pl.show()   \n",
    "\n",
    "    predictions_proba = model.predict_proba(X_valid)\n",
    "    ll = log_loss(yvalid, predictions_proba)\n",
    "    print('\\n\\nAverage Log Loss for ',model_name,' (', descriptor_desired, '): %.3f' %ll)\n",
    "\n",
    "    print('\\n')"
   ]
  },
  {
   "cell_type": "code",
   "execution_count": 8,
   "metadata": {},
   "outputs": [],
   "source": [
    "descriptors = ['daisy']"
   ]
  },
  {
   "cell_type": "code",
   "execution_count": 9,
   "metadata": {},
   "outputs": [
    {
     "name": "stdout",
     "output_type": "stream",
     "text": [
      "###################################  daisy  ####################################\n",
      "Number of encoded train images: 4042\n",
      "training took 528.6960740089417 seconds\n",
      "\n",
      "Number of images for training : 3233\n",
      "Number of images for validation : 809\n",
      "\n",
      "\n",
      "***************** SVM ******************\n",
      "\n",
      "classification accuracy for SVM with kernel rbf (default) (daisy): 0.49938195302843014\n",
      "training accuracy for SVM with kernel rbf (default) (daisy): 0.9217445097432725\n",
      "\n",
      "[[89 20  0  6  0 12  0  0  0  4  0  0]\n",
      " [15 27  1  2  0 29  0  2  0  0  1  0]\n",
      " [ 0  2  8 10  0  2  0 11  7  7  1  7]\n",
      " [13  5  1 31  0 15  0 11  3 11  3  2]\n",
      " [ 4  0  0 10  0  2  0  0  0  4  2  0]\n",
      " [13 18  0  1  0 58  0  0  0  0  0  0]\n",
      " [ 1  0  0  2  0  0  2  2  1  0  0  4]\n",
      " [ 1  1  2  8  0  0  0 59  2  3  0  9]\n",
      " [ 1  0  0  5  0  1  0  7 17 13  1  7]\n",
      " [ 1  0  3  2  0  1  0  5  8 46  2  5]\n",
      " [ 1  0  0  1  0  1  0  0  1 14 23  2]\n",
      " [ 2  0  1  1  0  2  0 12  4  8  0 44]]\n"
     ]
    },
    {
     "data": {
      "image/png": "[encoded data removed]",
      "text/plain": [
       "<Figure size 288x288 with 2 Axes>"
      ]
     },
     "metadata": {
      "needs_background": "light"
     },
     "output_type": "display_data"
    },
    {
     "name": "stdout",
     "output_type": "stream",
     "text": [
      "\n",
      "\n",
      "Average Log Loss for  SVM with kernel rbf (default)  ( daisy ): 1.405\n",
      "\n",
      "\n",
      "***************** SVM ******************\n",
      "\n",
      "classification accuracy for SVM with kernel linear (daisy): 0.5216316440049443\n",
      "training accuracy for SVM with kernel linear (daisy): 0.7986390349520569\n",
      "\n",
      "[[88 20  1  8  0 11  0  0  0  3  0  0]\n",
      " [ 9 36  1  5  0 23  0  2  0  0  1  0]\n",
      " [ 0  2 10 10  0  2  0 13  4 10  1  3]\n",
      " [13  5  1 30  0 14  0 11  3 12  4  2]\n",
      " [ 3  0  1 10  0  2  0  1  0  3  2  0]\n",
      " [15 21  0  3  0 50  0  0  1  0  0  0]\n",
      " [ 1  0  1  1  0  0  3  1  2  0  0  3]\n",
      " [ 2  1  3  4  0  0  0 62  0  4  0  9]\n",
      " [ 0  0  1  4  0  0  1  8 22 10  1  5]\n",
      " [ 0  0  3  5  0  0  0  5 12 46  2  0]\n",
      " [ 0  0  0  1  0  1  0  0  3  8 29  1]\n",
      " [ 2  0  2  2  0  2  0 10  3  7  0 46]]\n"
     ]
    },
    {
     "data": {
      "image/png": "[encoded data removed]",
      "text/plain": [
       "<Figure size 288x288 with 2 Axes>"
      ]
     },
     "metadata": {
      "needs_background": "light"
     },
     "output_type": "display_data"
    },
    {
     "name": "stdout",
     "output_type": "stream",
     "text": [
      "\n",
      "\n",
      "Average Log Loss for  SVM with kernel linear  ( daisy ): 1.370\n",
      "\n",
      "\n",
      "***************** SVM ******************\n",
      "\n",
      "classification accuracy for SVM with kernel poly (daisy): 0.453646477132262\n",
      "training accuracy for SVM with kernel poly (daisy): 0.9913393133312712\n",
      "\n",
      "[[78  7  1  7  0 35  0  0  0  3  0  0]\n",
      " [15 22  0  2  0 36  0  2  0  0  0  0]\n",
      " [ 4  2  7 12  0  3  0 11  5  4  1  6]\n",
      " [15  2  1 28  0 21  0 10  4  9  2  3]\n",
      " [ 7  0  0  7  0  4  0  0  0  4  0  0]\n",
      " [16 14  0  0  0 60  0  0  0  0  0  0]\n",
      " [ 1  0  0  2  0  1  0  2  0  0  0  6]\n",
      " [ 4  1  2  9  0  0  0 53  1  5  0 10]\n",
      " [ 3  1  0  6  0  6  0  6 13  8  1  8]\n",
      " [ 2  0  1  2  0  5  0  6  7 43  2  5]\n",
      " [ 1  0  0  2  0  5  0  0  1 11 21  2]\n",
      " [ 2  0  0  3  0  4  0 10  4  8  1 42]]\n"
     ]
    },
    {
     "data": {
      "image/png": "[encoded data removed]",
      "text/plain": [
       "<Figure size 288x288 with 2 Axes>"
      ]
     },
     "metadata": {
      "needs_background": "light"
     },
     "output_type": "display_data"
    },
    {
     "name": "stdout",
     "output_type": "stream",
     "text": [
      "\n",
      "\n",
      "Average Log Loss for  SVM with kernel poly  ( daisy ): 1.535\n",
      "\n",
      "\n",
      "***************** SVM ******************\n",
      "\n",
      "classification accuracy for SVM with kernel sigmoid (daisy): 0.5092707045735476\n",
      "training accuracy for SVM with kernel sigmoid (daisy): 0.6835756263532323\n",
      "\n",
      "[[88 19  2  8  0 10  0  0  0  4  0  0]\n",
      " [ 8 35  0  5  0 25  0  3  0  0  1  0]\n",
      " [ 0  2  7  9  0  2  0 17  5 10  1  2]\n",
      " [12  5  1 33  0 14  0  9  4 13  2  2]\n",
      " [ 3  0  1  9  0  2  0  2  0  3  2  0]\n",
      " [16 19  0  3  0 51  0  0  1  0  0  0]\n",
      " [ 1  0  1  2  0  0  2  1  2  0  0  3]\n",
      " [ 2  0  3  6  0  0  0 61  1  5  0  7]\n",
      " [ 0  0  1  4  0  0  1  7 19 12  1  7]\n",
      " [ 0  0  2  5  0  0  0  5 13 44  2  2]\n",
      " [ 0  0  0  2  0  1  0  0  2  9 28  1]\n",
      " [ 2  0  3  2  0  2  0  9  5  7  0 44]]\n"
     ]
    },
    {
     "data": {
      "image/png": "[encoded data removed]",
      "text/plain": [
       "<Figure size 288x288 with 2 Axes>"
      ]
     },
     "metadata": {
      "needs_background": "light"
     },
     "output_type": "display_data"
    },
    {
     "name": "stdout",
     "output_type": "stream",
     "text": [
      "\n",
      "\n",
      "Average Log Loss for  SVM with kernel sigmoid  ( daisy ): 1.388\n",
      "\n",
      "\n",
      "***************** SVM ******************\n"
     ]
    },
    {
     "ename": "ValueError",
     "evalue": "Precomputed matrix must be a square matrix. Input is a 3233x1700 matrix.",
     "output_type": "error",
     "traceback": [
      "\u001b[0;31m---------------------------------------------------------------------------\u001b[0m",
      "\u001b[0;31mValueError\u001b[0m                                Traceback (most recent call last)",
      "\u001b[0;32m<ipython-input-9-11d156378b74>\u001b[0m in \u001b[0;36m<module>\u001b[0;34m\u001b[0m\n\u001b[1;32m     33\u001b[0m \u001b[0;34m\u001b[0m\u001b[0m\n\u001b[1;32m     34\u001b[0m \u001b[0;34m\u001b[0m\u001b[0m\n\u001b[0;32m---> 35\u001b[0;31m     \u001b[0mevaluate_models\u001b[0m\u001b[0;34m(\u001b[0m\u001b[0mX_train\u001b[0m\u001b[0;34m,\u001b[0m \u001b[0mX_valid\u001b[0m\u001b[0;34m,\u001b[0m \u001b[0mytrain\u001b[0m\u001b[0;34m,\u001b[0m \u001b[0myvalid\u001b[0m\u001b[0;34m,\u001b[0m \u001b[0mdescriptor_desired\u001b[0m\u001b[0;34m)\u001b[0m\u001b[0;34m\u001b[0m\u001b[0;34m\u001b[0m\u001b[0m\n\u001b[0m",
      "\u001b[0;32m<ipython-input-6-ebda4db59960>\u001b[0m in \u001b[0;36mevaluate_models\u001b[0;34m(X_train, X_valid, ytrain, yvalid, descriptor_desired)\u001b[0m\n\u001b[1;32m     62\u001b[0m \u001b[0;34m\u001b[0m\u001b[0m\n\u001b[1;32m     63\u001b[0m     \u001b[0;31m# fit model\u001b[0m\u001b[0;34m\u001b[0m\u001b[0;34m\u001b[0m\u001b[0;34m\u001b[0m\u001b[0m\n\u001b[0;32m---> 64\u001b[0;31m     \u001b[0mmodel\u001b[0m\u001b[0;34m.\u001b[0m\u001b[0mfit\u001b[0m\u001b[0;34m(\u001b[0m\u001b[0mX_train\u001b[0m\u001b[0;34m,\u001b[0m \u001b[0mytrain\u001b[0m\u001b[0;34m)\u001b[0m\u001b[0;34m\u001b[0m\u001b[0;34m\u001b[0m\u001b[0m\n\u001b[0m\u001b[1;32m     65\u001b[0m \u001b[0;34m\u001b[0m\u001b[0m\n\u001b[1;32m     66\u001b[0m     \u001b[0mdisplay_metrics\u001b[0m\u001b[0;34m(\u001b[0m\u001b[0mX_train\u001b[0m\u001b[0;34m,\u001b[0m \u001b[0mX_valid\u001b[0m\u001b[0;34m,\u001b[0m \u001b[0mytrain\u001b[0m\u001b[0;34m,\u001b[0m \u001b[0myvalid\u001b[0m\u001b[0;34m,\u001b[0m \u001b[0mdescriptor_desired\u001b[0m\u001b[0;34m,\u001b[0m \u001b[0mmodel\u001b[0m\u001b[0;34m,\u001b[0m\u001b[0;34m\"SVM with kernel precomputed\"\u001b[0m\u001b[0;34m)\u001b[0m\u001b[0;34m\u001b[0m\u001b[0;34m\u001b[0m\u001b[0m\n",
      "\u001b[0;32m~/opt/anaconda3/lib/python3.8/site-packages/sklearn/svm/_base.py\u001b[0m in \u001b[0;36mfit\u001b[0;34m(self, X, y, sample_weight)\u001b[0m\n\u001b[1;32m    177\u001b[0m \u001b[0;34m\u001b[0m\u001b[0m\n\u001b[1;32m    178\u001b[0m         \u001b[0;32mif\u001b[0m \u001b[0mself\u001b[0m\u001b[0;34m.\u001b[0m\u001b[0mkernel\u001b[0m \u001b[0;34m==\u001b[0m \u001b[0;34m\"precomputed\"\u001b[0m \u001b[0;32mand\u001b[0m \u001b[0mn_samples\u001b[0m \u001b[0;34m!=\u001b[0m \u001b[0mX\u001b[0m\u001b[0;34m.\u001b[0m\u001b[0mshape\u001b[0m\u001b[0;34m[\u001b[0m\u001b[0;36m1\u001b[0m\u001b[0;34m]\u001b[0m\u001b[0;34m:\u001b[0m\u001b[0;34m\u001b[0m\u001b[0;34m\u001b[0m\u001b[0m\n\u001b[0;32m--> 179\u001b[0;31m             raise ValueError(\"Precomputed matrix must be a square matrix.\"\n\u001b[0m\u001b[1;32m    180\u001b[0m                              \u001b[0;34m\" Input is a {}x{} matrix.\"\u001b[0m\u001b[0;34m\u001b[0m\u001b[0;34m\u001b[0m\u001b[0m\n\u001b[1;32m    181\u001b[0m                              .format(X.shape[0], X.shape[1]))\n",
      "\u001b[0;31mValueError\u001b[0m: Precomputed matrix must be a square matrix. Input is a 3233x1700 matrix."
     ]
    }
   ],
   "source": [
    "for descriptor_desired in descriptors:\n",
    "    \n",
    "    print(f'  {descriptor_desired}  '.center(80,'#'))\n",
    "    \n",
    "    with open(filepattern_descriptor_train.format(descriptor_desired), 'rb') as pkl_file_train:\n",
    "        train_features_from_pkl = pickle.load(pkl_file_train)\n",
    "    \n",
    "    print('Number of encoded train images: {}'.format(len(train_features_from_pkl)))\n",
    "    \n",
    "    codebook_size = 1700\n",
    "\n",
    "    clustered_codebook = helpers.createCodebook(train_features_from_pkl, codebook_size=codebook_size)\n",
    "    \n",
    "    # encode all train images \n",
    "    train_data = []\n",
    "    train_labels = []\n",
    "\n",
    "    for image_features in train_features_from_pkl:\n",
    "        bow_feature_vector = helpers.encodeImage(image_features.data, clustered_codebook)\n",
    "        train_data.append(bow_feature_vector)\n",
    "        train_labels.append(image_features.label)\n",
    "             \n",
    "    # use a labelencoder to obtain numerical labels\n",
    "    label_encoder = sklearn.preprocessing.LabelEncoder()\n",
    "    label_encoder.fit(label_strings)\n",
    "    train_labels = label_encoder.transform(train_labels)\n",
    "    \n",
    "    #Split Train Data for training and validations.\n",
    "    X_train, X_valid, ytrain, yvalid = train_test_split(train_data, train_labels, test_size=0.2,random_state=42)\n",
    "    \n",
    "    print(\"\\nNumber of images for training :\",len(X_train))\n",
    "    print(\"Number of images for validation :\", len(X_valid))\n",
    "\n",
    " \n",
    "    evaluate_models(X_train, X_valid, ytrain, yvalid, descriptor_desired)"
   ]
  },
  {
   "cell_type": "code",
   "execution_count": null,
   "metadata": {},
   "outputs": [],
   "source": []
  }
 ],
 "metadata": {
  "kernelspec": {
   "display_name": "Python 3",
   "language": "python",
   "name": "python3"
  },
  "language_info": {
   "codemirror_mode": {
    "name": "ipython",
    "version": 3
   },
   "file_extension": ".py",
   "mimetype": "text/x-python",
   "name": "python",
   "nbconvert_exporter": "python",
   "pygments_lexer": "ipython3",
   "version": "3.8.5"
  }
 },
 "nbformat": 4,
 "nbformat_minor": 4
}
