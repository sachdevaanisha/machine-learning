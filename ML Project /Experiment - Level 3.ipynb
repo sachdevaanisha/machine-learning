{
 "cells": [
  {
   "cell_type": "code",
   "execution_count": 1,
   "metadata": {},
   "outputs": [],
   "source": [
    "# standard packages used to handle files\n",
    "import sys\n",
    "import os \n",
    "import glob\n",
    "import time\n",
    "\n",
    "from tqdm import tqdm\n",
    "\n",
    "# commonly used library for data manipulation\n",
    "import pandas as pd\n",
    "\n",
    "# numerical\n",
    "import numpy as np\n",
    "\n",
    "# handle images - opencv\n",
    "import cv2\n",
    "\n",
    "# machine learning library\n",
    "import sklearn\n",
    "import sklearn.preprocessing\n",
    "\n",
    "# used to serialize python objects to disk and load them back to memory\n",
    "import pickle\n",
    "\n",
    "# plotting\n",
    "import matplotlib.pyplot as plt\n",
    "\n",
    "# helper functions\n",
    "import helpers\n",
    "\n",
    "# specific helper functions for feature extraction\n",
    "import features\n",
    "\n",
    "from sklearn.model_selection import train_test_split\n",
    "\n",
    "from sklearn.svm import SVC\n",
    "from sklearn.neighbors import KNeighborsClassifier\n",
    "from sklearn.tree import DecisionTreeClassifier\n",
    "from sklearn.ensemble import RandomForestClassifier\n",
    "from sklearn.naive_bayes import GaussianNB\n",
    "\n",
    "from sklearn.ensemble import BaggingClassifier\n",
    "\n",
    "\n",
    "\n",
    "from sklearn.metrics import log_loss\n",
    "\n",
    "from sklearn.metrics import confusion_matrix\n",
    "import pylab as pl\n",
    "\n",
    "from sklearn.model_selection import learning_curve\n",
    "\n",
    "# tell matplotlib that we plot in a notebook\n",
    "%matplotlib notebook\n",
    "\n",
    "%matplotlib inline"
   ]
  },
  {
   "cell_type": "code",
   "execution_count": 2,
   "metadata": {},
   "outputs": [
    {
     "name": "stderr",
     "output_type": "stream",
     "text": [
      "100%|██████████| 550/550 [00:09<00:00, 56.26it/s]\n",
      "100%|██████████| 435/435 [00:06<00:00, 67.88it/s] \n",
      "100%|██████████| 249/249 [00:28<00:00,  8.60it/s]\n",
      "100%|██████████| 462/462 [01:07<00:00,  6.88it/s]\n",
      "100%|██████████| 75/75 [00:02<00:00, 27.76it/s]\n",
      "100%|██████████| 466/466 [00:08<00:00, 56.48it/s]\n",
      "100%|██████████| 87/87 [00:12<00:00,  6.98it/s]\n",
      "100%|██████████| 394/394 [00:59<00:00,  6.63it/s]\n",
      "100%|██████████| 321/321 [00:48<00:00,  6.55it/s]\n",
      "100%|██████████| 406/406 [00:42<00:00,  9.53it/s]\n",
      "100%|██████████| 214/214 [00:27<00:00,  7.92it/s]\n",
      "100%|██████████| 383/383 [00:50<00:00,  7.55it/s]\n"
     ]
    }
   ],
   "source": [
    "# Normalize the images\n",
    "\n",
    "\n",
    "\n",
    "dataset_path = \"./images/\"\n",
    "\n",
    "\n",
    "dataset_path_train = os.path.join(dataset_path, 'train')\n",
    "dataset_path_test = os.path.join(dataset_path, 'test')\n",
    "\n",
    "def getImgPaths(data_folder):\n",
    "    \"\"\"Returns filepaths of all files contained in the given folder as strings.\"\"\"\n",
    "    return np.sort(glob.glob(os.path.join(data_folder, '*')))\n",
    "\n",
    "folder_paths = glob.glob(os.path.join(dataset_path_train,'*'))\n",
    "label_strings = np.sort(np.array([os.path.basename(path) for path in folder_paths]))\n",
    "\n",
    "train_paths = dict((label_string, getImgPaths(os.path.join(dataset_path_train, label_string)))\n",
    "                   for label_string in label_strings)\n",
    "\n",
    "for image_paths in train_paths.values():\n",
    "    for image_path in tqdm(image_paths):\n",
    "        image = cv2.imread(image_path)\n",
    "        norm_img = np.zeros((800,800))\n",
    "        image = cv2.normalize(image,  norm_img, 0, 255, cv2.NORM_MINMAX)    \n",
    "        new_path = image_path.replace(image_path[:image_path.index(\"images\")],\"normalized_\" )\n",
    "        cv2.imwrite(new_path, image)\n",
    "        \n",
    "        "
   ]
  },
  {
   "cell_type": "code",
   "execution_count": 3,
   "metadata": {},
   "outputs": [
    {
     "name": "stderr",
     "output_type": "stream",
     "text": [
      "100%|██████████| 4035/4035 [05:24<00:00, 12.42it/s]\n"
     ]
    }
   ],
   "source": [
    "test_paths = getImgPaths(dataset_path_test)\n",
    "\n",
    "for image_path in tqdm(test_paths):\n",
    "    image = cv2.imread(image_path)\n",
    "    norm_img = np.zeros((800,800))\n",
    "    image = cv2.normalize(image,  norm_img, 0, 255, cv2.NORM_MINMAX)    \n",
    "    new_path = image_path.replace(image_path[:image_path.index(\"images\")],\"normalized_\" )\n",
    "    cv2.imwrite(new_path, image)\n",
    "            "
   ]
  },
  {
   "cell_type": "code",
   "execution_count": 4,
   "metadata": {},
   "outputs": [],
   "source": [
    "# filepath constants, set these according to your workflow:\n",
    "\n",
    "# where are your datasets:\n",
    "dataset_path = './normalized_images/'\n",
    "# where do you want to save your features and other outputs:\n",
    "output_path = './normalized_output/'"
   ]
  },
  {
   "cell_type": "code",
   "execution_count": 5,
   "metadata": {},
   "outputs": [],
   "source": [
    "# you don't have to change the paths here:\n",
    "\n",
    "dataset_path_train = os.path.join(dataset_path, 'train')\n",
    "dataset_path_test = os.path.join(dataset_path, 'test')\n",
    "\n",
    "features_path = os.path.join(output_path, 'features')\n",
    "features_path_train = os.path.join(features_path, 'train')\n",
    "features_path_test = os.path.join(features_path, 'test')\n",
    "\n",
    "prediction_path = os.path.join(output_path, 'predictions')\n",
    "\n",
    "# filepatterns to write out features\n",
    "filepattern_descriptor_train = os.path.join(features_path_train, 'train_features_{}.pkl')\n",
    "filepattern_descriptor_test = os.path.join(features_path_test, 'test_features_{}.pkl')\n",
    "\n",
    "# create paths in case they don't exist:\n",
    "helpers.createPath(features_path)\n",
    "helpers.createPath(features_path_train)\n",
    "helpers.createPath(features_path_test)\n",
    "helpers.createPath(prediction_path)"
   ]
  },
  {
   "cell_type": "code",
   "execution_count": 6,
   "metadata": {},
   "outputs": [
    {
     "name": "stdout",
     "output_type": "stream",
     "text": [
      "Amount of classes:  12\n",
      "\n",
      "Labels: \n",
      " ['chicken' 'elephant' 'fox' 'german_shepherd' 'golden_retriever' 'horse'\n",
      " 'jaguar' 'lion' 'owl' 'parrot' 'swan' 'tiger']\n"
     ]
    }
   ],
   "source": [
    "folder_paths = glob.glob(os.path.join(dataset_path_train,'*'))\n",
    "label_strings = np.sort(np.array([os.path.basename(path) for path in folder_paths]))\n",
    "num_classes = label_strings.shape[0]\n",
    "\n",
    "print(\"Amount of classes: \", num_classes)\n",
    "print(\"\\nLabels: \\n\", label_strings)"
   ]
  },
  {
   "cell_type": "code",
   "execution_count": 7,
   "metadata": {},
   "outputs": [],
   "source": [
    "train_paths = dict((label_string, helpers.getImgPaths(os.path.join(dataset_path_train, label_string))) \n",
    "                   for label_string in label_strings)"
   ]
  },
  {
   "cell_type": "code",
   "execution_count": 8,
   "metadata": {},
   "outputs": [],
   "source": [
    "# Add all features which you would like to see computed and their callbacks to this dictionary\n",
    "# Features where a pickle file already exists will not be recomputed\n",
    "\n",
    "descriptor_dict = {\n",
    "    'daisy': features.extractDAISYCallback, # SIFT replacement, very fast, can be computed dense if necessary\n",
    "}"
   ]
  },
  {
   "cell_type": "code",
   "execution_count": 9,
   "metadata": {},
   "outputs": [
    {
     "name": "stdout",
     "output_type": "stream",
     "text": [
      "Extracting train features for class chicken :\n"
     ]
    },
    {
     "name": "stderr",
     "output_type": "stream",
     "text": [
      "100%|██████████| 550/550 [00:22<00:00, 24.12it/s]"
     ]
    },
    {
     "name": "stdout",
     "output_type": "stream",
     "text": [
      "Extracting train features for class elephant :\n"
     ]
    },
    {
     "name": "stderr",
     "output_type": "stream",
     "text": [
      "\n",
      "100%|██████████| 435/435 [00:24<00:00, 18.04it/s]\n"
     ]
    },
    {
     "name": "stdout",
     "output_type": "stream",
     "text": [
      "Extracting train features for class fox :\n"
     ]
    },
    {
     "name": "stderr",
     "output_type": "stream",
     "text": [
      "100%|██████████| 249/249 [02:34<00:00,  1.61it/s]"
     ]
    },
    {
     "name": "stdout",
     "output_type": "stream",
     "text": [
      "Extracting train features for class german_shepherd :\n"
     ]
    },
    {
     "name": "stderr",
     "output_type": "stream",
     "text": [
      "\n",
      "100%|██████████| 462/462 [03:31<00:00,  2.18it/s]"
     ]
    },
    {
     "name": "stdout",
     "output_type": "stream",
     "text": [
      "Extracting train features for class golden_retriever :\n"
     ]
    },
    {
     "name": "stderr",
     "output_type": "stream",
     "text": [
      "\n",
      "100%|██████████| 75/75 [00:12<00:00,  5.96it/s]"
     ]
    },
    {
     "name": "stdout",
     "output_type": "stream",
     "text": [
      "Extracting train features for class horse :\n"
     ]
    },
    {
     "name": "stderr",
     "output_type": "stream",
     "text": [
      "\n",
      "100%|██████████| 466/466 [00:20<00:00, 22.34it/s]"
     ]
    },
    {
     "name": "stdout",
     "output_type": "stream",
     "text": [
      "Extracting train features for class jaguar :\n"
     ]
    },
    {
     "name": "stderr",
     "output_type": "stream",
     "text": [
      "\n",
      "100%|██████████| 87/87 [00:37<00:00,  2.31it/s]"
     ]
    },
    {
     "name": "stdout",
     "output_type": "stream",
     "text": [
      "Extracting train features for class lion :\n"
     ]
    },
    {
     "name": "stderr",
     "output_type": "stream",
     "text": [
      "\n",
      "100%|██████████| 394/394 [03:41<00:00,  1.78it/s]"
     ]
    },
    {
     "name": "stdout",
     "output_type": "stream",
     "text": [
      "Extracting train features for class owl :\n"
     ]
    },
    {
     "name": "stderr",
     "output_type": "stream",
     "text": [
      "\n",
      "100%|██████████| 321/321 [02:50<00:00,  1.88it/s]"
     ]
    },
    {
     "name": "stdout",
     "output_type": "stream",
     "text": [
      "Extracting train features for class parrot :\n"
     ]
    },
    {
     "name": "stderr",
     "output_type": "stream",
     "text": [
      "\n",
      "100%|██████████| 406/406 [04:06<00:00,  1.65it/s]"
     ]
    },
    {
     "name": "stdout",
     "output_type": "stream",
     "text": [
      "Extracting train features for class swan :\n"
     ]
    },
    {
     "name": "stderr",
     "output_type": "stream",
     "text": [
      "\n",
      "100%|██████████| 214/214 [02:02<00:00,  1.75it/s]"
     ]
    },
    {
     "name": "stdout",
     "output_type": "stream",
     "text": [
      "Extracting train features for class tiger :\n"
     ]
    },
    {
     "name": "stderr",
     "output_type": "stream",
     "text": [
      "\n",
      "100%|██████████| 383/383 [02:58<00:00,  2.15it/s]\n"
     ]
    }
   ],
   "source": [
    "train_descriptor_dict = descriptor_dict.copy()\n",
    "\n",
    "# if the corresponding files already exist, do not extract them again\n",
    "train_descriptor_dict = dict(\n",
    "    (key, value) for (key, value) in descriptor_dict.items() \n",
    "    if not os.path.isfile(filepattern_descriptor_train.format(key))\n",
    ")\n",
    "\n",
    "if len(train_descriptor_dict) > 0:\n",
    "    train_features = []\n",
    "    train_labels = []\n",
    "    \n",
    "    # convert train images\n",
    "    train_features_by_descriptor = dict((key, []) for (key,value) in train_descriptor_dict.items())\n",
    "    \n",
    "    for label_string in label_strings:\n",
    "        print('Extracting train features for class {} :'.format(label_string))\n",
    "\n",
    "        extracted_features = features.extractFeatures(train_paths[label_string], train_descriptor_dict, label_string)\n",
    "\n",
    "        # append descriptors of corresponding label to correct descriptor list \n",
    "        for key in train_features_by_descriptor.keys():\n",
    "            train_features_by_descriptor[key] += extracted_features[key]\n",
    "  \n",
    "    for descriptor_key in train_features_by_descriptor.keys():\n",
    "        with open(filepattern_descriptor_train.format(descriptor_key), 'wb') as pkl_file_train:\n",
    "            pickle.dump(train_features_by_descriptor[descriptor_key], pkl_file_train, protocol=pickle.HIGHEST_PROTOCOL)"
   ]
  },
  {
   "cell_type": "code",
   "execution_count": 10,
   "metadata": {},
   "outputs": [
    {
     "name": "stdout",
     "output_type": "stream",
     "text": [
      "Extracting test features:\n"
     ]
    },
    {
     "name": "stderr",
     "output_type": "stream",
     "text": [
      "100%|██████████| 4035/4035 [24:25<00:00,  2.75it/s]  \n"
     ]
    }
   ],
   "source": [
    "test_descriptor_dict = dict(\n",
    "    (key,value) for (key,value) in descriptor_dict.items() \n",
    "    if not os.path.isfile(filepattern_descriptor_test.format(key))\n",
    ")\n",
    "\n",
    "if len(test_descriptor_dict) > 0: \n",
    "    test_features = []\n",
    "    \n",
    "    print('Extracting test features:') \n",
    "    \n",
    "    test_features_by_descriptor = features.extractFeatures(test_paths, test_descriptor_dict, None) \n",
    "    \n",
    "    for descriptor_key in test_features_by_descriptor.keys():\n",
    "        with open(filepattern_descriptor_test.format(descriptor_key), 'wb') as pkl_file_test:\n",
    "            pickle.dump(test_features_by_descriptor[descriptor_key], pkl_file_test, protocol=pickle.HIGHEST_PROTOCOL)"
   ]
  },
  {
   "cell_type": "code",
   "execution_count": 11,
   "metadata": {},
   "outputs": [],
   "source": [
    "def evaluate_models(X_train, X_valid, ytrain, yvalid, descriptor_desired):\n",
    "    \n",
    "\n",
    "    print('\\n')\n",
    "    \n",
    "    #### SVM ####\n",
    "    \n",
    "    print(f\" SVM \".center(40,'*'))\n",
    "\n",
    "    # define support vector classifier\n",
    "    model = SVC(kernel='linear',probability=True, random_state=42)\n",
    "\n",
    "    # fit model\n",
    "    model.fit(X_train, ytrain)\n",
    "    \n",
    "    display_metrics(X_train, X_valid, ytrain, yvalid, descriptor_desired, model,\"SVM with normalized\")\n",
    "        \n",
    "    #### SVM Bagging ####\n",
    "    \n",
    "    print(f\" SVM with bagging \".center(40,'*'))\n",
    "\n",
    "    # define support vector classifier\n",
    "    model = SVC(kernel='linear',probability=True, random_state=42)\n",
    "    model = BaggingClassifier(base_estimator=model, n_estimators=10, random_state=42)\n",
    "\n",
    "    # fit model\n",
    "    model.fit(X_train, ytrain)\n",
    "    \n",
    "    display_metrics(X_train, X_valid, ytrain, yvalid, descriptor_desired, model,\"SVM Bagging with normalized\")"
   ]
  },
  {
   "cell_type": "code",
   "execution_count": 12,
   "metadata": {},
   "outputs": [],
   "source": [
    "def display_metrics(X_train, X_valid, ytrain, yvalid, descriptor_desired, model, model_name):\n",
    "    print(f'\\nclassification accuracy for {model_name} ({descriptor_desired}): ' +repr(model.score(X_valid,yvalid)))\n",
    "    print(f'training accuracy for {model_name} ({descriptor_desired}): ' +repr(model.score(X_train,ytrain))+\"\\n\")\n",
    "\n",
    "\n",
    "    #get confusion matrix\n",
    "    predictions_abs = model.predict(X_valid)\n",
    "    cm = confusion_matrix(yvalid, predictions_abs)\n",
    "\n",
    "    #display matrix\n",
    "    print(cm)\n",
    "\n",
    "\n",
    "    # plot confusion matrix\n",
    "    pl.matshow(cm)\n",
    "    pl.title(f'Confusion matrix for {model_name} ({descriptor_desired})')\n",
    "    pl.colorbar()\n",
    "    pl.ylabel('True class label')\n",
    "    pl.xlabel('Predicted class label')\n",
    "    pl.show()   \n",
    "\n",
    "    predictions_proba = model.predict_proba(X_valid)\n",
    "    ll = log_loss(yvalid, predictions_proba)\n",
    "    print('\\n\\nAverage Log Loss for ',model_name,' (', descriptor_desired, '): %.3f' %ll)\n",
    "\n",
    "    print('\\n')\n",
    "    \n",
    "    "
   ]
  },
  {
   "cell_type": "code",
   "execution_count": 13,
   "metadata": {},
   "outputs": [],
   "source": [
    "descriptors = ['daisy']"
   ]
  },
  {
   "cell_type": "code",
   "execution_count": null,
   "metadata": {},
   "outputs": [
    {
     "name": "stdout",
     "output_type": "stream",
     "text": [
      "###################################  daisy  ####################################\n",
      "Number of encoded train images: 4042\n",
      "training took 659.1975190639496 seconds\n",
      "\n",
      "Number of images for training : 3233\n",
      "Number of images for validation : 809\n",
      "\n",
      "\n",
      "***************** SVM ******************\n",
      "\n",
      "classification accuracy for SVM with normalized (daisy): 0.5179233621755254\n",
      "training accuracy for SVM with normalized (daisy): 0.7992576554283947\n",
      "\n",
      "[[82 12  2 12  0 18  0  0  3  2  0  0]\n",
      " [17 40  1  4  0 12  0  1  1  0  1  0]\n",
      " [ 1  3 11  7  0  0  0 14  4  8  1  6]\n",
      " [12  6  3 33  0 11  0 10  5 10  2  3]\n",
      " [ 5  0  1  9  0  1  0  0  1  4  1  0]\n",
      " [15 18  0  3  0 54  0  0  0  0  0  0]\n",
      " [ 1  0  0  1  0  0  3  1  1  0  0  5]\n",
      " [ 1  1  3 10  0  0  0 57  4  2  1  6]\n",
      " [ 2  0  1  3  0  0  2  4 21 15  1  3]\n",
      " [ 1  0  6  3  0  0  0  5 12 43  2  1]\n",
      " [ 1  0  1  1  0  0  0  0  2 10 27  1]\n",
      " [ 1  0  2  4  0  3  0  9  4  3  0 48]]\n"
     ]
    },
    {
     "data": {
      "image/png": "[encoded data removed]",
      "text/plain": [
       "<Figure size 288x288 with 2 Axes>"
      ]
     },
     "metadata": {
      "needs_background": "light"
     },
     "output_type": "display_data"
    },
    {
     "name": "stdout",
     "output_type": "stream",
     "text": [
      "\n",
      "\n",
      "Average Log Loss for  SVM with normalized  ( daisy ): 1.394\n",
      "\n",
      "\n",
      "*********** SVM with bagging ***********\n",
      "\n",
      "classification accuracy for SVM Bagging with normalized (daisy): 0.5265760197775031\n",
      "training accuracy for SVM Bagging with normalized (daisy): 0.851221775440767\n",
      "\n",
      "[[77 15  1 14  0 19  0  0  2  3  0  0]\n",
      " [14 41  3  4  0 12  0  1  1  0  1  0]\n",
      " [ 0  4 11  8  0  0  0 10  6  7  1  8]\n",
      " [11  7  2 36  0 11  0  8  4  9  3  4]\n",
      " [ 2  0  0 10  0  1  0  1  2  4  2  0]\n",
      " [13 20  0  2  0 55  0  0  0  0  0  0]\n",
      " [ 0  0  0  1  0  1  5  1  1  0  0  3]\n",
      " [ 1  1  4  5  0  0  1 56  5  2  1  9]\n",
      " [ 1  0  0  3  0  1  2  4 20 14  1  6]\n",
      " [ 1  0  4  3  0  0  0  4 11 46  2  2]\n",
      " [ 1  0  1  1  0  0  0  0  1 10 28  1]\n",
      " [ 0  0  3  6  0  3  0  4  4  3  0 51]]\n"
     ]
    },
    {
     "data": {
      "image/png": "[encoded data removed]",
      "text/plain": [
       "<Figure size 288x288 with 2 Axes>"
      ]
     },
     "metadata": {
      "needs_background": "light"
     },
     "output_type": "display_data"
    }
   ],
   "source": [
    "for descriptor_desired in descriptors:\n",
    "    \n",
    "    print(f'  {descriptor_desired}  '.center(80,'#'))\n",
    "    \n",
    "    with open(filepattern_descriptor_train.format(descriptor_desired), 'rb') as pkl_file_train:\n",
    "        train_features_from_pkl = pickle.load(pkl_file_train)\n",
    "    \n",
    "    print('Number of encoded train images: {}'.format(len(train_features_from_pkl)))\n",
    "        \n",
    "    codebook_size = 1700\n",
    "\n",
    "    clustered_codebook = helpers.createCodebook(train_features_from_pkl, codebook_size=codebook_size)\n",
    "    \n",
    "    # encode all train images \n",
    "    train_data = []\n",
    "    train_labels = []\n",
    "\n",
    "    for image_features in train_features_from_pkl:\n",
    "        bow_feature_vector = helpers.encodeImage(image_features.data, clustered_codebook)\n",
    "        train_data.append(bow_feature_vector)\n",
    "        train_labels.append(image_features.label)\n",
    "        \n",
    "\n",
    "    # use a labelencoder to obtain numerical labels\n",
    "    label_encoder = sklearn.preprocessing.LabelEncoder()\n",
    "    label_encoder.fit(label_strings)\n",
    "    train_labels = label_encoder.transform(train_labels)\n",
    "    \n",
    "    #Split Train Data for training and validations.\n",
    "    X_train, X_valid, ytrain, yvalid = train_test_split(train_data, train_labels, test_size=0.2,random_state=42)\n",
    "    print(\"\\nNumber of images for training :\",len(X_train))\n",
    "    print(\"Number of images for validation :\", len(X_valid))\n",
    "    \n",
    "    evaluate_models(X_train, X_valid, ytrain, yvalid, descriptor_desired)"
   ]
  },
  {
   "cell_type": "code",
   "execution_count": null,
   "metadata": {},
   "outputs": [],
   "source": []
  },
  {
   "cell_type": "code",
   "execution_count": null,
   "metadata": {},
   "outputs": [],
   "source": []
  }
 ],
 "metadata": {
  "kernelspec": {
   "display_name": "Python 3",
   "language": "python",
   "name": "python3"
  },
  "language_info": {
   "codemirror_mode": {
    "name": "ipython",
    "version": 3
   },
   "file_extension": ".py",
   "mimetype": "text/x-python",
   "name": "python",
   "nbconvert_exporter": "python",
   "pygments_lexer": "ipython3",
   "version": "3.8.5"
  }
 },
 "nbformat": 4,
 "nbformat_minor": 4
}
