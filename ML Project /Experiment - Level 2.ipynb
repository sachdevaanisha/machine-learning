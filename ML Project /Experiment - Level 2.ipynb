{
 "cells": [
  {
   "cell_type": "code",
   "execution_count": 1,
   "metadata": {},
   "outputs": [],
   "source": [
    "# standard packages used to handle files\n",
    "import sys\n",
    "import os \n",
    "import glob\n",
    "import time\n",
    "\n",
    "from tqdm import tqdm\n",
    "\n",
    "# commonly used library for data manipulation\n",
    "import pandas as pd\n",
    "\n",
    "# numerical\n",
    "import numpy as np\n",
    "\n",
    "# handle images - opencv\n",
    "import cv2\n",
    "\n",
    "# machine learning library\n",
    "import sklearn\n",
    "import sklearn.preprocessing\n",
    "\n",
    "# used to serialize python objects to disk and load them back to memory\n",
    "import pickle\n",
    "\n",
    "# plotting\n",
    "import matplotlib.pyplot as plt\n",
    "\n",
    "# helper functions\n",
    "import helpers\n",
    "\n",
    "# specific helper functions for feature extraction\n",
    "import features\n",
    "\n",
    "from sklearn.model_selection import train_test_split\n",
    "\n",
    "from sklearn.svm import SVC\n",
    "from sklearn.neighbors import KNeighborsClassifier\n",
    "from sklearn.tree import DecisionTreeClassifier\n",
    "from sklearn.ensemble import RandomForestClassifier\n",
    "from sklearn.naive_bayes import GaussianNB\n",
    "\n",
    "\n",
    "from sklearn.metrics import log_loss\n",
    "\n",
    "from sklearn.metrics import confusion_matrix\n",
    "import pylab as pl\n",
    "\n",
    "# tell matplotlib that we plot in a notebook\n",
    "%matplotlib notebook\n",
    "\n",
    "%matplotlib inline"
   ]
  },
  {
   "cell_type": "code",
   "execution_count": 2,
   "metadata": {},
   "outputs": [
    {
     "name": "stderr",
     "output_type": "stream",
     "text": [
      "100%|██████████| 550/550 [00:21<00:00, 26.14it/s]\n",
      "100%|██████████| 435/435 [00:20<00:00, 21.22it/s]\n",
      "100%|██████████| 249/249 [00:23<00:00, 10.61it/s]\n",
      "100%|██████████| 462/462 [00:33<00:00, 13.87it/s]\n",
      "100%|██████████| 75/75 [00:03<00:00, 24.74it/s]\n",
      "100%|██████████| 466/466 [00:17<00:00, 26.67it/s]\n",
      "100%|██████████| 87/87 [00:06<00:00, 13.72it/s]\n",
      "100%|██████████| 394/394 [00:29<00:00, 13.22it/s]\n",
      "100%|██████████| 321/321 [00:26<00:00, 12.21it/s]\n",
      "100%|██████████| 406/406 [00:23<00:00, 17.42it/s]\n",
      "100%|██████████| 214/214 [00:11<00:00, 18.30it/s]\n",
      "100%|██████████| 383/383 [00:23<00:00, 16.48it/s]\n"
     ]
    }
   ],
   "source": [
    "# Resize then Gausian Blurr the images\n",
    "\n",
    "dataset_path = \"./images/\"\n",
    "\n",
    "dataset_path_train = os.path.join(dataset_path, 'train')\n",
    "\n",
    "def getImgPaths(data_folder):\n",
    "    \"\"\"Returns filepaths of all files contained in the given folder as strings.\"\"\"\n",
    "    return np.sort(glob.glob(os.path.join(data_folder, '*')))\n",
    "\n",
    "folder_paths = glob.glob(os.path.join(dataset_path_train,'*'))\n",
    "label_strings = np.sort(np.array([os.path.basename(path) for path in folder_paths]))\n",
    "\n",
    "train_paths = dict((label_string, getImgPaths(os.path.join(dataset_path_train, label_string)))\n",
    "                   for label_string in label_strings)\n",
    "\n",
    "for image_paths in train_paths.values():\n",
    "    for image_path in tqdm(image_paths):\n",
    "        image = cv2.imread(image_path)\n",
    "        image = cv2.resize(image, (500, 500))\n",
    "        image = cv2.GaussianBlur(image,(5,5),0)\n",
    "        new_path = image_path.replace(image_path[:image_path.index(\"images\")],\"resize_gausian_\" )\n",
    "        cv2.imwrite(new_path, image)\n",
    "        \n",
    "        "
   ]
  },
  {
   "cell_type": "code",
   "execution_count": 3,
   "metadata": {},
   "outputs": [],
   "source": [
    "# filepath constants, set these according to your workflow:\n",
    "\n",
    "# where are your datasets:\n",
    "dataset_path = './resize_gausian_images/'\n",
    "# where do you want to save your features and other outputs:\n",
    "output_path = './resize_gausian_output/'"
   ]
  },
  {
   "cell_type": "code",
   "execution_count": 4,
   "metadata": {},
   "outputs": [],
   "source": [
    "# you don't have to change the paths here:\n",
    "\n",
    "dataset_path_train = os.path.join(dataset_path, 'train')\n",
    "dataset_path_test = os.path.join(dataset_path, 'test')\n",
    "\n",
    "features_path = os.path.join(output_path, 'features')\n",
    "features_path_train = os.path.join(features_path, 'train')\n",
    "features_path_test = os.path.join(features_path, 'test')\n",
    "\n",
    "prediction_path = os.path.join(output_path, 'predictions')\n",
    "\n",
    "# filepatterns to write out features\n",
    "filepattern_descriptor_train = os.path.join(features_path_train, 'train_features_{}.pkl')\n",
    "filepattern_descriptor_test = os.path.join(features_path_test, 'test_features_{}.pkl')\n",
    "\n",
    "# create paths in case they don't exist:\n",
    "helpers.createPath(features_path)\n",
    "helpers.createPath(features_path_train)\n",
    "helpers.createPath(features_path_test)\n",
    "helpers.createPath(prediction_path)"
   ]
  },
  {
   "cell_type": "code",
   "execution_count": 5,
   "metadata": {},
   "outputs": [
    {
     "name": "stdout",
     "output_type": "stream",
     "text": [
      "Amount of classes:  12\n",
      "\n",
      "Labels: \n",
      " ['chicken' 'elephant' 'fox' 'german_shepherd' 'golden_retriever' 'horse'\n",
      " 'jaguar' 'lion' 'owl' 'parrot' 'swan' 'tiger']\n"
     ]
    }
   ],
   "source": [
    "folder_paths = glob.glob(os.path.join(dataset_path_train,'*'))\n",
    "label_strings = np.sort(np.array([os.path.basename(path) for path in folder_paths]))\n",
    "num_classes = label_strings.shape[0]\n",
    "\n",
    "print(\"Amount of classes: \", num_classes)\n",
    "print(\"\\nLabels: \\n\", label_strings)"
   ]
  },
  {
   "cell_type": "code",
   "execution_count": 6,
   "metadata": {},
   "outputs": [],
   "source": [
    "train_paths = dict((label_string, helpers.getImgPaths(os.path.join(dataset_path_train, label_string))) \n",
    "                   for label_string in label_strings)\n",
    "\n",
    "test_paths = helpers.getImgPaths(dataset_path_test)"
   ]
  },
  {
   "cell_type": "code",
   "execution_count": 7,
   "metadata": {},
   "outputs": [],
   "source": [
    "# Add all features which you would like to see computed and their callbacks to this dictionary\n",
    "# Features where a pickle file already exists will not be recomputed\n",
    "\n",
    "descriptor_dict = {\n",
    "    'daisy': features.extractDAISYCallback, # SIFT replacement, very fast, can be computed dense if necessary\n",
    "#     'orb': features.extractORBCallback, # another fast SIFT replacement, oriented BRIEF w. FAST keypoints  \n",
    "#     'freak': features.extractFREAKCallback, # biologically motivated descriptor\n",
    "#     'lucid': features.extractLUCIDCallback,  \n",
    "#     'vgg': features.extractVGGCallback, # Trained as proposed by VGG lab, don't confuse it with VGG-Net features\n",
    "#     'boost_desc': features.extractBoostDescCallback, # Image descriptor learned with boosting\n",
    "    'sift': features.extractSIFTCallback # One descriptor to rule them all\n",
    "}"
   ]
  },
  {
   "cell_type": "code",
   "execution_count": 8,
   "metadata": {},
   "outputs": [
    {
     "name": "stdout",
     "output_type": "stream",
     "text": [
      "Extracting train features for class chicken :\n"
     ]
    },
    {
     "name": "stderr",
     "output_type": "stream",
     "text": [
      "100%|██████████| 550/550 [01:50<00:00,  4.97it/s]"
     ]
    },
    {
     "name": "stdout",
     "output_type": "stream",
     "text": [
      "Extracting train features for class elephant :\n"
     ]
    },
    {
     "name": "stderr",
     "output_type": "stream",
     "text": [
      "\n",
      "100%|██████████| 435/435 [01:15<00:00,  5.73it/s]"
     ]
    },
    {
     "name": "stdout",
     "output_type": "stream",
     "text": [
      "Extracting train features for class fox :\n"
     ]
    },
    {
     "name": "stderr",
     "output_type": "stream",
     "text": [
      "\n",
      "100%|██████████| 249/249 [00:39<00:00,  6.37it/s]"
     ]
    },
    {
     "name": "stdout",
     "output_type": "stream",
     "text": [
      "Extracting train features for class german_shepherd :\n"
     ]
    },
    {
     "name": "stderr",
     "output_type": "stream",
     "text": [
      "\n",
      "100%|██████████| 462/462 [01:09<00:00,  6.63it/s]"
     ]
    },
    {
     "name": "stdout",
     "output_type": "stream",
     "text": [
      "Extracting train features for class golden_retriever :\n"
     ]
    },
    {
     "name": "stderr",
     "output_type": "stream",
     "text": [
      "\n",
      "100%|██████████| 75/75 [00:10<00:00,  6.96it/s]"
     ]
    },
    {
     "name": "stdout",
     "output_type": "stream",
     "text": [
      "Extracting train features for class horse :\n"
     ]
    },
    {
     "name": "stderr",
     "output_type": "stream",
     "text": [
      "\n",
      "100%|██████████| 466/466 [01:09<00:00,  6.73it/s]"
     ]
    },
    {
     "name": "stdout",
     "output_type": "stream",
     "text": [
      "Extracting train features for class jaguar :\n"
     ]
    },
    {
     "name": "stderr",
     "output_type": "stream",
     "text": [
      "\n",
      "100%|██████████| 87/87 [00:12<00:00,  6.76it/s]"
     ]
    },
    {
     "name": "stdout",
     "output_type": "stream",
     "text": [
      "Extracting train features for class lion :\n"
     ]
    },
    {
     "name": "stderr",
     "output_type": "stream",
     "text": [
      "\n",
      "100%|██████████| 394/394 [01:00<00:00,  6.51it/s]"
     ]
    },
    {
     "name": "stdout",
     "output_type": "stream",
     "text": [
      "Extracting train features for class owl :\n"
     ]
    },
    {
     "name": "stderr",
     "output_type": "stream",
     "text": [
      "\n",
      "100%|██████████| 321/321 [00:55<00:00,  5.76it/s]"
     ]
    },
    {
     "name": "stdout",
     "output_type": "stream",
     "text": [
      "Extracting train features for class parrot :\n"
     ]
    },
    {
     "name": "stderr",
     "output_type": "stream",
     "text": [
      "\n",
      "100%|██████████| 406/406 [01:04<00:00,  6.32it/s]"
     ]
    },
    {
     "name": "stdout",
     "output_type": "stream",
     "text": [
      "Extracting train features for class swan :\n"
     ]
    },
    {
     "name": "stderr",
     "output_type": "stream",
     "text": [
      "\n",
      "100%|██████████| 214/214 [00:31<00:00,  6.75it/s]"
     ]
    },
    {
     "name": "stdout",
     "output_type": "stream",
     "text": [
      "Extracting train features for class tiger :\n"
     ]
    },
    {
     "name": "stderr",
     "output_type": "stream",
     "text": [
      "\n",
      "100%|██████████| 383/383 [01:04<00:00,  5.89it/s]\n"
     ]
    }
   ],
   "source": [
    "train_descriptor_dict = descriptor_dict.copy()\n",
    "\n",
    "# if the corresponding files already exist, do not extract them again\n",
    "train_descriptor_dict = dict(\n",
    "    (key, value) for (key, value) in descriptor_dict.items() \n",
    "    if not os.path.isfile(filepattern_descriptor_train.format(key))\n",
    ")\n",
    "\n",
    "if len(train_descriptor_dict) > 0:\n",
    "    train_features = []\n",
    "    train_labels = []\n",
    "    \n",
    "    # convert train images\n",
    "    train_features_by_descriptor = dict((key, []) for (key,value) in train_descriptor_dict.items())\n",
    "    \n",
    "    for label_string in label_strings:\n",
    "        print('Extracting train features for class {} :'.format(label_string))\n",
    "\n",
    "        extracted_features = features.extractFeatures(train_paths[label_string], train_descriptor_dict, label_string)\n",
    "\n",
    "        # append descriptors of corresponding label to correct descriptor list \n",
    "        for key in train_features_by_descriptor.keys():\n",
    "            train_features_by_descriptor[key] += extracted_features[key]\n",
    "  \n",
    "    for descriptor_key in train_features_by_descriptor.keys():\n",
    "        with open(filepattern_descriptor_train.format(descriptor_key), 'wb') as pkl_file_train:\n",
    "            pickle.dump(train_features_by_descriptor[descriptor_key], pkl_file_train, protocol=pickle.HIGHEST_PROTOCOL)"
   ]
  },
  {
   "cell_type": "code",
   "execution_count": null,
   "metadata": {},
   "outputs": [],
   "source": []
  },
  {
   "cell_type": "code",
   "execution_count": 9,
   "metadata": {},
   "outputs": [],
   "source": [
    "def evaluate_models(X_train, X_valid, ytrain, yvalid, descriptor_desired):\n",
    "    \n",
    "\n",
    "    print('\\n')\n",
    "    \n",
    "    #### SVM ####\n",
    "    \n",
    "    print(f\" SVM \".center(40,'*'))\n",
    "\n",
    "    # define support vector classifier\n",
    "    model = SVC(kernel='linear',probability=True, random_state=42)\n",
    "\n",
    "    # fit model\n",
    "    model.fit(X_train, ytrain)\n",
    "    \n",
    "    display_metrics(X_train, X_valid, ytrain, yvalid, descriptor_desired, model,\"SVM with resize and gausain blurr\")\n",
    "    \n",
    "    \n",
    "    #### Random Forest ####\n",
    "    \n",
    "    print(f\" Random Forest \".center(40,'*'))\n",
    "    \n",
    "    # define Random Forest classifier\n",
    "    model=RandomForestClassifier(n_estimators=100)\n",
    "    \n",
    "    # fit model\n",
    "    model.fit(X_train, ytrain)\n",
    "    \n",
    "    display_metrics(X_train, X_valid, ytrain, yvalid, descriptor_desired, model,\"Random Forest with resize and gausain blurr\")\n",
    "    \n"
   ]
  },
  {
   "cell_type": "code",
   "execution_count": 10,
   "metadata": {},
   "outputs": [],
   "source": [
    "def display_metrics(X_train, X_valid, ytrain, yvalid, descriptor_desired, model, model_name):\n",
    "    print(f'\\nclassification accuracy for {model_name} ({descriptor_desired}): ' +repr(model.score(X_valid,yvalid)))\n",
    "    print(f'training accuracy for {model_name} ({descriptor_desired}): ' +repr(model.score(X_train,ytrain))+\"\\n\")\n",
    "\n",
    "\n",
    "    #get confusion matrix\n",
    "    predictions_abs = model.predict(X_valid)\n",
    "    cm = confusion_matrix(yvalid, predictions_abs)\n",
    "\n",
    "    #display matrix\n",
    "    print(cm)\n",
    "\n",
    "\n",
    "    # plot confusion matrix\n",
    "    pl.matshow(cm)\n",
    "    pl.title(f'Confusion matrix for {model_name} ({descriptor_desired})')\n",
    "    pl.colorbar()\n",
    "    pl.ylabel('True class label')\n",
    "    pl.xlabel('Predicted class label')\n",
    "    pl.show()   \n",
    "\n",
    "    predictions_proba = model.predict_proba(X_valid)\n",
    "    ll = log_loss(yvalid, predictions_proba)\n",
    "    print('\\n\\nAverage Log Loss for ',model_name,' (', descriptor_desired, '): %.3f' %ll)\n",
    "\n",
    "    print('\\n')"
   ]
  },
  {
   "cell_type": "code",
   "execution_count": 11,
   "metadata": {},
   "outputs": [],
   "source": [
    "descriptors = ['daisy','sift']"
   ]
  },
  {
   "cell_type": "code",
   "execution_count": 12,
   "metadata": {},
   "outputs": [
    {
     "name": "stdout",
     "output_type": "stream",
     "text": [
      "###################################  daisy  ####################################\n",
      "Number of encoded train images: 4042\n",
      "training took 908.3900408744812 seconds\n",
      "\n",
      "Number of images for training : 3233\n",
      "Number of images for validation : 809\n",
      "\n",
      "\n",
      "***************** SVM ******************\n",
      "\n",
      "classification accuracy for SVM with resize and gausain blurr (daisy): 0.484548825710754\n",
      "training accuracy for SVM with resize and gausain blurr (daisy): 0.7868852459016393\n",
      "\n",
      "[[79  9  3  8  0 10  0  6  3  9  2  2]\n",
      " [12 31  0  4  0 17  0  6  2  5  0  0]\n",
      " [ 8  3  6  6  0  2  0 16  3  4  4  3]\n",
      " [13  3  4 40  0 12  0  5  2  8  5  3]\n",
      " [ 4  2  5  3  0  1  0  2  0  3  2  0]\n",
      " [13  6  0  8  0 53  0  0  2  7  0  1]\n",
      " [ 0  0  0  0  0  0  4  4  1  1  0  2]\n",
      " [12  4  1  6  0  5  0 53  1  1  0  2]\n",
      " [ 5  0  1  1  0  3  1  3 17 13  3  5]\n",
      " [ 5  1  4  3  0  2  1  4  7 41  3  2]\n",
      " [ 3  0  2  4  0  2  0  0  0  9 22  1]\n",
      " [ 3  2  3  4  0  3  0  6  3  3  1 46]]\n"
     ]
    },
    {
     "data": {
      "image/png": "[encoded data removed]",
      "text/plain": [
       "<Figure size 288x288 with 2 Axes>"
      ]
     },
     "metadata": {
      "needs_background": "light"
     },
     "output_type": "display_data"
    },
    {
     "name": "stdout",
     "output_type": "stream",
     "text": [
      "\n",
      "\n",
      "Average Log Loss for  SVM with resize and gausain blurr  ( daisy ): 1.599\n",
      "\n",
      "\n",
      "************ Random Forest *************\n",
      "\n",
      "classification accuracy for Random Forest with resize and gausain blurr (daisy): 0.37453646477132263\n",
      "training accuracy for Random Forest with resize and gausain blurr (daisy): 1.0\n",
      "\n",
      "[[58 12  2  8  0 16  0 12  3 11  3  6]\n",
      " [14 26  1  4  0 16  0  9  3  1  1  2]\n",
      " [16  4  1  8  0  4  0 13  1  4  3  1]\n",
      " [20  8  1 28  0 21  0  5  2  6  2  2]\n",
      " [ 5  2  2  4  0  4  0  0  0  1  3  1]\n",
      " [11 11  0  7  0 46  0  1  2  8  2  2]\n",
      " [ 2  0  0  0  0  0  0  2  2  0  0  6]\n",
      " [21  6  0  9  0  6  0 35  1  2  0  5]\n",
      " [ 7  2  0  2  0  3  0  1 15 14  0  8]\n",
      " [ 7  5  0  4  0  2  0  1  5 40  2  7]\n",
      " [ 4  0  0  3  0  3  0  0  0 12 20  1]\n",
      " [15  3  0  1  0  1  0  6  6  5  3 34]]\n"
     ]
    },
    {
     "data": {
      "image/png": "[encoded data removed]",
      "text/plain": [
       "<Figure size 288x288 with 2 Axes>"
      ]
     },
     "metadata": {
      "needs_background": "light"
     },
     "output_type": "display_data"
    },
    {
     "name": "stdout",
     "output_type": "stream",
     "text": [
      "\n",
      "\n",
      "Average Log Loss for  Random Forest with resize and gausain blurr  ( daisy ): 2.070\n",
      "\n",
      "\n",
      "####################################  sift  ####################################\n",
      "Number of encoded train images: 4042\n",
      "training took 699.2979898452759 seconds\n",
      "\n",
      "Number of images for training : 3233\n",
      "Number of images for validation : 809\n",
      "\n",
      "\n",
      "***************** SVM ******************\n",
      "\n",
      "classification accuracy for SVM with resize and gausain blurr (sift): 0.4264524103831891\n",
      "training accuracy for SVM with resize and gausain blurr (sift): 0.8097742035261367\n",
      "\n",
      "[[69 14  1 11  0 11  1  4  7  2  3  8]\n",
      " [10 26  0 10  0 15  0  5  4  4  1  2]\n",
      " [ 8  1 11  5  0  1  0  9  6  7  4  3]\n",
      " [19  4  1 30  0 15  0  7  4 12  0  3]\n",
      " [ 7  3  1  2  0  0  0  2  0  5  0  2]\n",
      " [ 9 15  1  8  0 43  0  3  0 10  0  1]\n",
      " [ 4  0  0  0  0  0  6  1  1  0  0  0]\n",
      " [ 7  8  3  7  0  3  0 50  3  2  0  2]\n",
      " [ 3  1  0  3  0  0  1  7 16 15  1  5]\n",
      " [ 7  2  0 12  0  6  0  5  5 25  3  8]\n",
      " [ 4  2  1  2  0  2  0  1  0  7 20  4]\n",
      " [ 5  2  0  1  0  1  0  8  3  5  0 49]]\n"
     ]
    },
    {
     "data": {
      "image/png": "[encoded data removed]",
      "text/plain": [
       "<Figure size 288x288 with 2 Axes>"
      ]
     },
     "metadata": {
      "needs_background": "light"
     },
     "output_type": "display_data"
    },
    {
     "name": "stdout",
     "output_type": "stream",
     "text": [
      "\n",
      "\n",
      "Average Log Loss for  SVM with resize and gausain blurr  ( sift ): 1.696\n",
      "\n",
      "\n",
      "************ Random Forest *************\n",
      "\n",
      "classification accuracy for Random Forest with resize and gausain blurr (sift): 0.30778739184178\n",
      "training accuracy for Random Forest with resize and gausain blurr (sift): 1.0\n",
      "\n",
      "[[60 17  1 10  0 19  1  9  3  3  0  8]\n",
      " [11 20  0  8  0 22  0  3  1  5  0  7]\n",
      " [12  4  2  9  0  3  0  3  4 12  1  5]\n",
      " [20 10  1 22  0 19  0 11  0  9  0  3]\n",
      " [ 7  1  0  2  0  3  0  0  2  3  0  4]\n",
      " [14 18  2 11  0 35  0  2  1  5  0  2]\n",
      " [ 4  0  0  0  0  0  6  1  0  0  0  1]\n",
      " [21  7  0 11  0  7  0 26  2  4  0  7]\n",
      " [12  3  0  6  0  3  1  6  5  8  0  8]\n",
      " [15  3  0 14  0 11  0  3  0 16  0 11]\n",
      " [ 6  5  0  3  0  5  0  0  0  9  8  7]\n",
      " [10  2  0  2  0  2  0  4  2  3  0 49]]\n"
     ]
    },
    {
     "data": {
      "image/png": "[encoded data removed]",
      "text/plain": [
       "<Figure size 288x288 with 2 Axes>"
      ]
     },
     "metadata": {
      "needs_background": "light"
     },
     "output_type": "display_data"
    },
    {
     "name": "stdout",
     "output_type": "stream",
     "text": [
      "\n",
      "\n",
      "Average Log Loss for  Random Forest with resize and gausain blurr  ( sift ): 2.225\n",
      "\n",
      "\n"
     ]
    }
   ],
   "source": [
    "for descriptor_desired in descriptors:\n",
    "    \n",
    "    print(f'  {descriptor_desired}  '.center(80,'#'))\n",
    "    \n",
    "    with open(filepattern_descriptor_train.format(descriptor_desired), 'rb') as pkl_file_train:\n",
    "        train_features_from_pkl = pickle.load(pkl_file_train)\n",
    "    \n",
    "    print('Number of encoded train images: {}'.format(len(train_features_from_pkl)))\n",
    "        \n",
    "    codebook_size = 1700\n",
    "\n",
    "    clustered_codebook = helpers.createCodebook(train_features_from_pkl, codebook_size=codebook_size)\n",
    "    \n",
    "    # encode all train images \n",
    "    train_data = []\n",
    "    train_labels = []\n",
    "\n",
    "    for image_features in train_features_from_pkl:\n",
    "        bow_feature_vector = helpers.encodeImage(image_features.data, clustered_codebook)\n",
    "        train_data.append(bow_feature_vector)\n",
    "        train_labels.append(image_features.label)\n",
    "        \n",
    "\n",
    "    # use a labelencoder to obtain numerical labels\n",
    "    label_encoder = sklearn.preprocessing.LabelEncoder()\n",
    "    label_encoder.fit(label_strings)\n",
    "    train_labels = label_encoder.transform(train_labels)\n",
    "    \n",
    "    #Split Train Data for training and validations.\n",
    "    X_train, X_valid, ytrain, yvalid = train_test_split(train_data, train_labels, test_size=0.2,random_state=42)\n",
    "    print(\"\\nNumber of images for training :\",len(X_train))\n",
    "    print(\"Number of images for validation :\", len(X_valid))\n",
    "    \n",
    "    evaluate_models(X_train, X_valid, ytrain, yvalid, descriptor_desired)"
   ]
  },
  {
   "cell_type": "code",
   "execution_count": null,
   "metadata": {},
   "outputs": [],
   "source": []
  }
 ],
 "metadata": {
  "kernelspec": {
   "display_name": "Python 3",
   "language": "python",
   "name": "python3"
  },
  "language_info": {
   "codemirror_mode": {
    "name": "ipython",
    "version": 3
   },
   "file_extension": ".py",
   "mimetype": "text/x-python",
   "name": "python",
   "nbconvert_exporter": "python",
   "pygments_lexer": "ipython3",
   "version": "3.8.5"
  }
 },
 "nbformat": 4,
 "nbformat_minor": 4
}
